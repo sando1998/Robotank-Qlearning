{
  "cells": [
    {
      "cell_type": "markdown",
      "metadata": {},
      "source": [
        "Alunos\n",
        "\n",
        "Sandoval da Silva Almeida Junior\n",
        "\n",
        "Tayco Murilo Santos Rodrigues"
      ]
    },
    {
      "cell_type": "markdown",
      "metadata": {},
      "source": [
        "**Equação de Bellman**:\n",
        "\n",
        "$$Q^{(i+1)}[s,a] = (1-\\alpha)\\,Q^{(i)}[s,a] + \\alpha \\left( r + \\gamma \\,Q^{(i)}\\left[s,\\text{argmax}_{a} \\,Q^{(i)}[s,a]\\right] \\right).$$"
      ]
    },
    {
      "cell_type": "code",
      "execution_count": 1,
      "metadata": {
        "id": "6kVd1ovCggTd"
      },
      "outputs": [],
      "source": [
        "import gym\n",
        "import random\n",
        "import numpy as np"
      ]
    },
    {
      "cell_type": "code",
      "execution_count": 2,
      "metadata": {
        "id": "e1lfwiwWDTm_",
        "outputId": "f430680f-1b09-4051-8ce4-608a1c5f1090"
      },
      "outputs": [
        {
          "name": "stderr",
          "output_type": "stream",
          "text": [
            "c:\\Users\\sando\\AppData\\Local\\Programs\\Python\\Python38\\lib\\site-packages\\gym\\envs\\registration.py:564: UserWarning: \u001b[33mWARN: The environment Robotank-ram-v0 is out of date. You should consider upgrading to version `v4`.\u001b[0m\n",
            "  logger.warn(\n",
            "c:\\Users\\sando\\AppData\\Local\\Programs\\Python\\Python38\\lib\\site-packages\\gym\\utils\\passive_env_checker.py:97: UserWarning: \u001b[33mWARN: We recommend you to use a symmetric and normalized Box action space (range=[-1, 1]) https://stable-baselines3.readthedocs.io/en/master/guide/rl_tips.html\u001b[0m\n",
            "  logger.warn(\n"
          ]
        }
      ],
      "source": [
        "#Instalar o pacote gym e a extensâo para o atari\n",
        "\n",
        "env = gym.make(\"Robotank-ram-v0\", render_mode ='human') #Criar uma instância com o gym"
      ]
    },
    {
      "cell_type": "code",
      "execution_count": 3,
      "metadata": {
        "id": "MuXjDGxYgwi5"
      },
      "outputs": [],
      "source": [
        "class QLearn: \n",
        "    \n",
        "    def __init__(self, actions, epsilon, alpha, gamma):\n",
        "        \n",
        "        # Dicionário para receber os valores de q\n",
        "        self.q = {}\n",
        "        \n",
        "        # Constante de Exploração // Determina se a proxima ação é aleatória ou coordenada\n",
        "        self.epsilon = epsilon  \n",
        "        \n",
        "        # Constante de Desconto   // taxa de aprendizado\n",
        "        self.alpha = alpha  \n",
        "        \n",
        "        # Taxa de Desconto        // Pesos atribuídos aos estados\n",
        "        self.gamma = gamma  \n",
        "        \n",
        "        # Ações\n",
        "        self.actions = actions\n",
        "\n",
        "    # Método para obter o valor de q, com base em cada ação e estado\n",
        "    def getQ(self, estado, acao):\n",
        "        return self.q.get((estado, acao), 0.0)  #get(getQ(), 0.0)\n",
        "\n",
        "    # Método para o aprendizado de q, onde será implementada a Equação de Bellman\n",
        "    def aprendeQ(self, estado, acao, recompensa, valor):\n",
        "        '''\n",
        "        Algoritmo Q-learning:\n",
        "            Q(s, a) += alpha * (reward(s,a) + max(Q(s') - Q(s,a))\n",
        "        '''\n",
        "        \n",
        "        # Obtém o valor anterior de q\n",
        "        antigo_q = self.q.get((estado, acao), None)\n",
        "        \n",
        "        # Se o valor estiver vazio, coletamos a recompensa, Se não, geramos um novo valor de q\n",
        "        if antigo_q is None:\n",
        "            self.q[(estado, acao)] = recompensa\n",
        "        else:\n",
        "            self.q[(estado, acao)] = antigo_q + self.alpha * (valor - antigo_q)\n",
        "            # Q(s, a)              = Q(s, a)   + alpha     * (reward(s,a) + max(Q(s') - Q(s,a))\n",
        "\n",
        "    def escolheAcao(self, estado, return_q = False):\n",
        "        \n",
        "        # self.actions foi iniciado no construtor da classe\n",
        "        q = [self.getQ(estado, a) for a in self.actions] # Fixa um estado e roda todas as ações nesse estado\n",
        "        \n",
        "\n",
        "        maxQ = max(q) # Grava o maior valor de q no estado enviado para a função\n",
        "\n",
        "        #Agora introduzimos aleatoriedade às decisões do agente\n",
        "        if random.random() < self.epsilon:\n",
        "            minQ = min(q)\n",
        "            mag = max(abs(minQ), abs(maxQ))\n",
        "            \n",
        "            # Adiciona valores aleatórios a todas as ações, recalculando maxQ\n",
        "            q = [q[i] + random.random() * mag - .5 * mag for i in range(len(self.actions))]\n",
        "            maxQ = max(q)\n",
        "\n",
        "        # Conta os valores máximos\n",
        "        count = q.count(maxQ)\n",
        "        \n",
        "        # Caso haja vários valores máximos de ação de estado selecionamos um aleatório entre eles\n",
        "        if count > 1:\n",
        "            best = [i for i in range(len(self.actions)) if q[i] == maxQ]\n",
        "            i = random.choice(best) # Escolhe aleatoriamente a posição da ação na lista que atende a q[i] == maxQ\n",
        "        else:\n",
        "            i = q.index(maxQ)\n",
        "        \n",
        "        # E alimentamos a variável de ação\n",
        "        action = self.actions[i] # Melhor ação pra aquele estado\n",
        "        \n",
        "        # Por fim, retornamos q e a ação ou apenas a ação\n",
        "        if return_q:  \n",
        "            return action, q\n",
        "        return action\n",
        "\n",
        "    # Este é o método de aprendizado para o treinamento do agente\n",
        "    def aprendizado(self, state1, action1, reward, state2):\n",
        "        maxqnew = max([self.getQ(state2, a) for a in self.actions]) # novo_estado = state2\n",
        "        self.aprendeQ(state1, action1, reward, reward + self.gamma * maxqnew)\n",
        "        #def aprendeQ(self, estado, acao, recompensa, valor):"
      ]
    },
    {
      "cell_type": "code",
      "execution_count": 4,
      "metadata": {
        "id": "ObBpwav6gsLb"
      },
      "outputs": [],
      "source": [
        "# Função para criar o estado a partir do ambiente do Gym\n",
        "def cria_estado(atributos):\n",
        "    return int(\"\".join(map(lambda atributo: str(int(atributo)), atributos)))"
      ]
    },
    {
      "cell_type": "code",
      "execution_count": 5,
      "metadata": {
        "id": "ac8PoSZXg8AX"
      },
      "outputs": [],
      "source": [
        "# Função para o aprendizado de um episódio\n",
        "def aprende_um_episodio(Q, episodio):\n",
        "    \n",
        "    # Variável de controle do loop de aprendizado\n",
        "    done = False\n",
        "    \n",
        "    # Inicializa variáveis\n",
        "    G, reward = 0, 0\n",
        "    \n",
        "    # Reset do ambiente\n",
        "    state = env.reset()\n",
        "    \n",
        "\n",
        "    while not done:\n",
        "        \n",
        "        \n",
        "        # Escolhe uma ação no estado atual\n",
        "        action = Q.escolheAcao(cria_estado(state))\n",
        "        \n",
        "        # Cada ação gera resultados e coletamos todos eles: estado, recompensa, se chegamos ao final e info\n",
        "        state2, reward, done, info = env.step(action)\n",
        "        \n",
        "        # Usamos os resultados anteriores para o agente aprender se aquela ação foi boa ou não\n",
        "        Q.aprendizado(cria_estado(state), action, reward, cria_estado(state))\n",
        "        \n",
        "        # Vamos acumulando as recompensas\n",
        "        G += reward\n",
        "        \n",
        "        # Para para o próximo estado\n",
        "        state = state2\n",
        "\n",
        "    # Andamento do aprendizado\n",
        "    print('Episódio {} Recompensa Total: {}'.format(episodio, G))"
      ]
    },
    {
      "cell_type": "code",
      "execution_count": 6,
      "metadata": {
        "id": "94qsRoYyg2Ao"
      },
      "outputs": [],
      "source": [
        "# Cria o objeto Q (instância da Classe) inicializando os parâmetros para as primeiras escolhas do agente\n",
        "\n",
        "# Hiperparâmetros iniciais\n",
        "actions = list(range(0, 18))\n",
        "epsilon = 0.4\n",
        "alpha = 0.618\n",
        "gamma = 0.9\n",
        "\n",
        "# Instância da classe\n",
        "Q = QLearn(actions, epsilon, alpha, gamma)"
      ]
    },
    {
      "cell_type": "code",
      "execution_count": 7,
      "metadata": {
        "colab": {
          "base_uri": "https://localhost:8080/"
        },
        "id": "l5OSvnTIDTnM",
        "outputId": "554efa6f-bfd7-4a1e-a15e-409322272625"
      },
      "outputs": [
        {
          "ename": "KeyboardInterrupt",
          "evalue": "",
          "output_type": "error",
          "traceback": [
            "\u001b[1;31m---------------------------------------------------------------------------\u001b[0m",
            "\u001b[1;31mKeyboardInterrupt\u001b[0m                         Traceback (most recent call last)",
            "\u001b[1;32m~\\AppData\\Local\\Temp/ipykernel_5488/1353510421.py\u001b[0m in \u001b[0;36m<module>\u001b[1;34m\u001b[0m\n\u001b[0;32m      2\u001b[0m \u001b[1;31m# Cada recompensa faz com o que o agente aprenda a ação que gera o resultado, ou seja, vencer o jogo\u001b[0m\u001b[1;33m\u001b[0m\u001b[1;33m\u001b[0m\u001b[1;33m\u001b[0m\u001b[0m\n\u001b[0;32m      3\u001b[0m \u001b[1;32mfor\u001b[0m \u001b[0mepisodio\u001b[0m \u001b[1;32min\u001b[0m \u001b[0mrange\u001b[0m\u001b[1;33m(\u001b[0m\u001b[1;36m1\u001b[0m\u001b[1;33m,\u001b[0m \u001b[1;36m21\u001b[0m\u001b[1;33m)\u001b[0m\u001b[1;33m:\u001b[0m\u001b[1;33m\u001b[0m\u001b[1;33m\u001b[0m\u001b[0m\n\u001b[1;32m----> 4\u001b[1;33m     \u001b[0maprende_um_episodio\u001b[0m\u001b[1;33m(\u001b[0m\u001b[0mQ\u001b[0m\u001b[1;33m,\u001b[0m \u001b[0mepisodio\u001b[0m\u001b[1;33m)\u001b[0m\u001b[1;33m\u001b[0m\u001b[1;33m\u001b[0m\u001b[0m\n\u001b[0m\u001b[0;32m      5\u001b[0m \u001b[1;33m\u001b[0m\u001b[0m\n",
            "\u001b[1;32m~\\AppData\\Local\\Temp/ipykernel_5488/3223481648.py\u001b[0m in \u001b[0;36maprende_um_episodio\u001b[1;34m(Q, episodio)\u001b[0m\n\u001b[0;32m     19\u001b[0m \u001b[1;33m\u001b[0m\u001b[0m\n\u001b[0;32m     20\u001b[0m         \u001b[1;31m# Cada ação gera resultados e coletamos todos eles: estado, recompensa, se chegamos ao final e info\u001b[0m\u001b[1;33m\u001b[0m\u001b[1;33m\u001b[0m\u001b[1;33m\u001b[0m\u001b[0m\n\u001b[1;32m---> 21\u001b[1;33m         \u001b[0mstate2\u001b[0m\u001b[1;33m,\u001b[0m \u001b[0mreward\u001b[0m\u001b[1;33m,\u001b[0m \u001b[0mdone\u001b[0m\u001b[1;33m,\u001b[0m \u001b[0minfo\u001b[0m \u001b[1;33m=\u001b[0m \u001b[0menv\u001b[0m\u001b[1;33m.\u001b[0m\u001b[0mstep\u001b[0m\u001b[1;33m(\u001b[0m\u001b[0maction\u001b[0m\u001b[1;33m)\u001b[0m\u001b[1;33m\u001b[0m\u001b[1;33m\u001b[0m\u001b[0m\n\u001b[0m\u001b[0;32m     22\u001b[0m \u001b[1;33m\u001b[0m\u001b[0m\n\u001b[0;32m     23\u001b[0m         \u001b[1;31m# Usamos os resultados anteriores para o agente aprender se aquela ação foi boa ou não\u001b[0m\u001b[1;33m\u001b[0m\u001b[1;33m\u001b[0m\u001b[1;33m\u001b[0m\u001b[0m\n",
            "\u001b[1;32mc:\\Users\\sando\\AppData\\Local\\Programs\\Python\\Python38\\lib\\site-packages\\gym\\wrappers\\time_limit.py\u001b[0m in \u001b[0;36mstep\u001b[1;34m(self, action)\u001b[0m\n\u001b[0;32m     47\u001b[0m             \u001b[1;34m\"TimeLimit.truncated\"\u001b[0m\u001b[1;33m=\u001b[0m\u001b[1;32mFalse\u001b[0m \u001b[1;32mif\u001b[0m \u001b[0mthe\u001b[0m \u001b[0menvironment\u001b[0m \u001b[0mterminated\u001b[0m\u001b[1;33m\u001b[0m\u001b[1;33m\u001b[0m\u001b[0m\n\u001b[0;32m     48\u001b[0m         \"\"\"\n\u001b[1;32m---> 49\u001b[1;33m         \u001b[0mobservation\u001b[0m\u001b[1;33m,\u001b[0m \u001b[0mreward\u001b[0m\u001b[1;33m,\u001b[0m \u001b[0mdone\u001b[0m\u001b[1;33m,\u001b[0m \u001b[0minfo\u001b[0m \u001b[1;33m=\u001b[0m \u001b[0mself\u001b[0m\u001b[1;33m.\u001b[0m\u001b[0menv\u001b[0m\u001b[1;33m.\u001b[0m\u001b[0mstep\u001b[0m\u001b[1;33m(\u001b[0m\u001b[0maction\u001b[0m\u001b[1;33m)\u001b[0m\u001b[1;33m\u001b[0m\u001b[1;33m\u001b[0m\u001b[0m\n\u001b[0m\u001b[0;32m     50\u001b[0m         \u001b[0mself\u001b[0m\u001b[1;33m.\u001b[0m\u001b[0m_elapsed_steps\u001b[0m \u001b[1;33m+=\u001b[0m \u001b[1;36m1\u001b[0m\u001b[1;33m\u001b[0m\u001b[1;33m\u001b[0m\u001b[0m\n\u001b[0;32m     51\u001b[0m         \u001b[1;32mif\u001b[0m \u001b[0mself\u001b[0m\u001b[1;33m.\u001b[0m\u001b[0m_elapsed_steps\u001b[0m \u001b[1;33m>=\u001b[0m \u001b[0mself\u001b[0m\u001b[1;33m.\u001b[0m\u001b[0m_max_episode_steps\u001b[0m\u001b[1;33m:\u001b[0m\u001b[1;33m\u001b[0m\u001b[1;33m\u001b[0m\u001b[0m\n",
            "\u001b[1;32mc:\\Users\\sando\\AppData\\Local\\Programs\\Python\\Python38\\lib\\site-packages\\gym\\wrappers\\order_enforcing.py\u001b[0m in \u001b[0;36mstep\u001b[1;34m(self, action)\u001b[0m\n\u001b[0;32m     35\u001b[0m         \u001b[1;32mif\u001b[0m \u001b[1;32mnot\u001b[0m \u001b[0mself\u001b[0m\u001b[1;33m.\u001b[0m\u001b[0m_has_reset\u001b[0m\u001b[1;33m:\u001b[0m\u001b[1;33m\u001b[0m\u001b[1;33m\u001b[0m\u001b[0m\n\u001b[0;32m     36\u001b[0m             \u001b[1;32mraise\u001b[0m \u001b[0mResetNeeded\u001b[0m\u001b[1;33m(\u001b[0m\u001b[1;34m\"Cannot call env.step() before calling env.reset()\"\u001b[0m\u001b[1;33m)\u001b[0m\u001b[1;33m\u001b[0m\u001b[1;33m\u001b[0m\u001b[0m\n\u001b[1;32m---> 37\u001b[1;33m         \u001b[1;32mreturn\u001b[0m \u001b[0mself\u001b[0m\u001b[1;33m.\u001b[0m\u001b[0menv\u001b[0m\u001b[1;33m.\u001b[0m\u001b[0mstep\u001b[0m\u001b[1;33m(\u001b[0m\u001b[0maction\u001b[0m\u001b[1;33m)\u001b[0m\u001b[1;33m\u001b[0m\u001b[1;33m\u001b[0m\u001b[0m\n\u001b[0m\u001b[0;32m     38\u001b[0m \u001b[1;33m\u001b[0m\u001b[0m\n\u001b[0;32m     39\u001b[0m     \u001b[1;32mdef\u001b[0m \u001b[0mreset\u001b[0m\u001b[1;33m(\u001b[0m\u001b[0mself\u001b[0m\u001b[1;33m,\u001b[0m \u001b[1;33m**\u001b[0m\u001b[0mkwargs\u001b[0m\u001b[1;33m)\u001b[0m\u001b[1;33m:\u001b[0m\u001b[1;33m\u001b[0m\u001b[1;33m\u001b[0m\u001b[0m\n",
            "\u001b[1;32mc:\\Users\\sando\\AppData\\Local\\Programs\\Python\\Python38\\lib\\site-packages\\gym\\wrappers\\env_checker.py\u001b[0m in \u001b[0;36mstep\u001b[1;34m(self, action)\u001b[0m\n\u001b[0;32m     39\u001b[0m             \u001b[1;32mreturn\u001b[0m \u001b[0mpassive_env_step_check\u001b[0m\u001b[1;33m(\u001b[0m\u001b[0mself\u001b[0m\u001b[1;33m.\u001b[0m\u001b[0menv\u001b[0m\u001b[1;33m,\u001b[0m \u001b[0maction\u001b[0m\u001b[1;33m)\u001b[0m\u001b[1;33m\u001b[0m\u001b[1;33m\u001b[0m\u001b[0m\n\u001b[0;32m     40\u001b[0m         \u001b[1;32melse\u001b[0m\u001b[1;33m:\u001b[0m\u001b[1;33m\u001b[0m\u001b[1;33m\u001b[0m\u001b[0m\n\u001b[1;32m---> 41\u001b[1;33m             \u001b[1;32mreturn\u001b[0m \u001b[0mself\u001b[0m\u001b[1;33m.\u001b[0m\u001b[0menv\u001b[0m\u001b[1;33m.\u001b[0m\u001b[0mstep\u001b[0m\u001b[1;33m(\u001b[0m\u001b[0maction\u001b[0m\u001b[1;33m)\u001b[0m\u001b[1;33m\u001b[0m\u001b[1;33m\u001b[0m\u001b[0m\n\u001b[0m\u001b[0;32m     42\u001b[0m \u001b[1;33m\u001b[0m\u001b[0m\n\u001b[0;32m     43\u001b[0m     \u001b[1;32mdef\u001b[0m \u001b[0mreset\u001b[0m\u001b[1;33m(\u001b[0m\u001b[0mself\u001b[0m\u001b[1;33m,\u001b[0m \u001b[1;33m**\u001b[0m\u001b[0mkwargs\u001b[0m\u001b[1;33m)\u001b[0m \u001b[1;33m->\u001b[0m \u001b[0mUnion\u001b[0m\u001b[1;33m[\u001b[0m\u001b[0mObsType\u001b[0m\u001b[1;33m,\u001b[0m \u001b[0mTuple\u001b[0m\u001b[1;33m[\u001b[0m\u001b[0mObsType\u001b[0m\u001b[1;33m,\u001b[0m \u001b[0mdict\u001b[0m\u001b[1;33m]\u001b[0m\u001b[1;33m]\u001b[0m\u001b[1;33m:\u001b[0m\u001b[1;33m\u001b[0m\u001b[1;33m\u001b[0m\u001b[0m\n",
            "\u001b[1;32mc:\\Users\\sando\\AppData\\Local\\Programs\\Python\\Python38\\lib\\site-packages\\gym\\envs\\atari\\environment.py\u001b[0m in \u001b[0;36mstep\u001b[1;34m(self, action_ind)\u001b[0m\n\u001b[0;32m    236\u001b[0m         \u001b[0mreward\u001b[0m \u001b[1;33m=\u001b[0m \u001b[1;36m0.0\u001b[0m\u001b[1;33m\u001b[0m\u001b[1;33m\u001b[0m\u001b[0m\n\u001b[0;32m    237\u001b[0m         \u001b[1;32mfor\u001b[0m \u001b[0m_\u001b[0m \u001b[1;32min\u001b[0m \u001b[0mrange\u001b[0m\u001b[1;33m(\u001b[0m\u001b[0mframeskip\u001b[0m\u001b[1;33m)\u001b[0m\u001b[1;33m:\u001b[0m\u001b[1;33m\u001b[0m\u001b[1;33m\u001b[0m\u001b[0m\n\u001b[1;32m--> 238\u001b[1;33m             \u001b[0mreward\u001b[0m \u001b[1;33m+=\u001b[0m \u001b[0mself\u001b[0m\u001b[1;33m.\u001b[0m\u001b[0male\u001b[0m\u001b[1;33m.\u001b[0m\u001b[0mact\u001b[0m\u001b[1;33m(\u001b[0m\u001b[0maction\u001b[0m\u001b[1;33m)\u001b[0m\u001b[1;33m\u001b[0m\u001b[1;33m\u001b[0m\u001b[0m\n\u001b[0m\u001b[0;32m    239\u001b[0m \u001b[1;33m\u001b[0m\u001b[0m\n\u001b[0;32m    240\u001b[0m         \u001b[1;32mreturn\u001b[0m \u001b[0mself\u001b[0m\u001b[1;33m.\u001b[0m\u001b[0m_get_obs\u001b[0m\u001b[1;33m(\u001b[0m\u001b[1;33m)\u001b[0m\u001b[1;33m,\u001b[0m \u001b[0mreward\u001b[0m\u001b[1;33m,\u001b[0m \u001b[0mterminal\u001b[0m\u001b[1;33m,\u001b[0m \u001b[0mself\u001b[0m\u001b[1;33m.\u001b[0m\u001b[0m_get_info\u001b[0m\u001b[1;33m(\u001b[0m\u001b[1;33m)\u001b[0m\u001b[1;33m\u001b[0m\u001b[1;33m\u001b[0m\u001b[0m\n",
            "\u001b[1;31mKeyboardInterrupt\u001b[0m: "
          ]
        }
      ],
      "source": [
        "# Primeira rodada de treinamento com 21 episódios\n",
        "# Cada recompensa faz com o que o agente aprenda a ação que gera o resultado, ou seja, vencer o jogo\n",
        "for episodio in range(1, 21):\n",
        "    aprende_um_episodio(Q, episodio)\n",
        "   "
      ]
    },
    {
      "cell_type": "code",
      "execution_count": null,
      "metadata": {
        "colab": {
          "base_uri": "https://localhost:8080/"
        },
        "id": "e5Nb1bVrDTnP",
        "outputId": "8b9e1ca7-d8d9-4e90-ab55-f9a22d2776d2"
      },
      "outputs": [
        {
          "name": "stdout",
          "output_type": "stream",
          "text": [
            "Episódio 1 Recompensa Total: 0.0\n",
            "Episódio 2 Recompensa Total: 0.0\n",
            "Episódio 3 Recompensa Total: 0.0\n",
            "Episódio 4 Recompensa Total: 0.0\n",
            "Episódio 5 Recompensa Total: 0.0\n",
            "Episódio 6 Recompensa Total: 0.0\n",
            "Episódio 7 Recompensa Total: 0.0\n",
            "Episódio 8 Recompensa Total: 0.0\n",
            "Episódio 9 Recompensa Total: 0.0\n",
            "Episódio 10 Recompensa Total: 0.0\n",
            "Episódio 11 Recompensa Total: 0.0\n",
            "Episódio 12 Recompensa Total: 0.0\n",
            "Episódio 13 Recompensa Total: 0.0\n",
            "Episódio 14 Recompensa Total: 0.0\n",
            "Episódio 15 Recompensa Total: 0.0\n",
            "Episódio 16 Recompensa Total: 0.0\n",
            "Episódio 17 Recompensa Total: 0.0\n",
            "Episódio 18 Recompensa Total: 0.0\n",
            "Episódio 19 Recompensa Total: 0.0\n"
          ]
        },
        {
          "ename": "KeyboardInterrupt",
          "evalue": "",
          "output_type": "error",
          "traceback": [
            "\u001b[1;31m---------------------------------------------------------------------------\u001b[0m",
            "\u001b[1;31mKeyboardInterrupt\u001b[0m                         Traceback (most recent call last)",
            "\u001b[1;32md:\\Users\\darly\\Documents\\Estudos\\IA-2\\Implementação q-learning\\Cópia_de_Implementacao_Q_Learning.ipynb Cell 28'\u001b[0m in \u001b[0;36m<cell line: 7>\u001b[1;34m()\u001b[0m\n\u001b[0;32m      <a href='vscode-notebook-cell:/d%3A/Users/darly/Documents/Estudos/IA-2/Implementa%C3%A7%C3%A3o%20q-learning/C%C3%B3pia_de_Implementacao_Q_Learning.ipynb#ch0000027?line=5'>6</a>\u001b[0m \u001b[39m# Rodada de treinamento\u001b[39;00m\n\u001b[0;32m      <a href='vscode-notebook-cell:/d%3A/Users/darly/Documents/Estudos/IA-2/Implementa%C3%A7%C3%A3o%20q-learning/C%C3%B3pia_de_Implementacao_Q_Learning.ipynb#ch0000027?line=6'>7</a>\u001b[0m \u001b[39mfor\u001b[39;00m episodio \u001b[39min\u001b[39;00m \u001b[39mrange\u001b[39m(\u001b[39m1\u001b[39m, \u001b[39m21\u001b[39m):\n\u001b[1;32m----> <a href='vscode-notebook-cell:/d%3A/Users/darly/Documents/Estudos/IA-2/Implementa%C3%A7%C3%A3o%20q-learning/C%C3%B3pia_de_Implementacao_Q_Learning.ipynb#ch0000027?line=7'>8</a>\u001b[0m     aprende_um_episodio(Q, episodio)\n",
            "\u001b[1;32md:\\Users\\darly\\Documents\\Estudos\\IA-2\\Implementação q-learning\\Cópia_de_Implementacao_Q_Learning.ipynb Cell 23'\u001b[0m in \u001b[0;36maprende_um_episodio\u001b[1;34m(Q, episodio)\u001b[0m\n\u001b[0;32m     <a href='vscode-notebook-cell:/d%3A/Users/darly/Documents/Estudos/IA-2/Implementa%C3%A7%C3%A3o%20q-learning/C%C3%B3pia_de_Implementacao_Q_Learning.ipynb#ch0000022?line=17'>18</a>\u001b[0m action \u001b[39m=\u001b[39m Q\u001b[39m.\u001b[39mescolheAcao(cria_estado(state))\n\u001b[0;32m     <a href='vscode-notebook-cell:/d%3A/Users/darly/Documents/Estudos/IA-2/Implementa%C3%A7%C3%A3o%20q-learning/C%C3%B3pia_de_Implementacao_Q_Learning.ipynb#ch0000022?line=19'>20</a>\u001b[0m \u001b[39m# Cada ação gera resultados e coletamos todos eles: estado, recompensa, se chegamos ao final e info\u001b[39;00m\n\u001b[1;32m---> <a href='vscode-notebook-cell:/d%3A/Users/darly/Documents/Estudos/IA-2/Implementa%C3%A7%C3%A3o%20q-learning/C%C3%B3pia_de_Implementacao_Q_Learning.ipynb#ch0000022?line=20'>21</a>\u001b[0m state2, reward, done, info \u001b[39m=\u001b[39m env\u001b[39m.\u001b[39;49mstep(action)\n\u001b[0;32m     <a href='vscode-notebook-cell:/d%3A/Users/darly/Documents/Estudos/IA-2/Implementa%C3%A7%C3%A3o%20q-learning/C%C3%B3pia_de_Implementacao_Q_Learning.ipynb#ch0000022?line=22'>23</a>\u001b[0m \u001b[39m# Usamos os resultados anteriores para o agente aprender se aquela ação foi boa ou não\u001b[39;00m\n\u001b[0;32m     <a href='vscode-notebook-cell:/d%3A/Users/darly/Documents/Estudos/IA-2/Implementa%C3%A7%C3%A3o%20q-learning/C%C3%B3pia_de_Implementacao_Q_Learning.ipynb#ch0000022?line=23'>24</a>\u001b[0m Q\u001b[39m.\u001b[39maprendizado(cria_estado(state), action, reward, cria_estado(state))\n",
            "File \u001b[1;32mc:\\ProgramData\\Anaconda3\\envs\\my-env\\lib\\site-packages\\gym\\wrappers\\time_limit.py:17\u001b[0m, in \u001b[0;36mTimeLimit.step\u001b[1;34m(self, action)\u001b[0m\n\u001b[0;32m     16\u001b[0m \u001b[39mdef\u001b[39;00m \u001b[39mstep\u001b[39m(\u001b[39mself\u001b[39m, action):\n\u001b[1;32m---> 17\u001b[0m     observation, reward, done, info \u001b[39m=\u001b[39m \u001b[39mself\u001b[39;49m\u001b[39m.\u001b[39;49menv\u001b[39m.\u001b[39;49mstep(action)\n\u001b[0;32m     18\u001b[0m     \u001b[39mself\u001b[39m\u001b[39m.\u001b[39m_elapsed_steps \u001b[39m+\u001b[39m\u001b[39m=\u001b[39m \u001b[39m1\u001b[39m\n\u001b[0;32m     19\u001b[0m     \u001b[39mif\u001b[39;00m \u001b[39mself\u001b[39m\u001b[39m.\u001b[39m_elapsed_steps \u001b[39m>\u001b[39m\u001b[39m=\u001b[39m \u001b[39mself\u001b[39m\u001b[39m.\u001b[39m_max_episode_steps:\n",
            "File \u001b[1;32mc:\\ProgramData\\Anaconda3\\envs\\my-env\\lib\\site-packages\\gym\\wrappers\\order_enforcing.py:13\u001b[0m, in \u001b[0;36mOrderEnforcing.step\u001b[1;34m(self, action)\u001b[0m\n\u001b[0;32m     11\u001b[0m \u001b[39mdef\u001b[39;00m \u001b[39mstep\u001b[39m(\u001b[39mself\u001b[39m, action):\n\u001b[0;32m     12\u001b[0m     \u001b[39massert\u001b[39;00m \u001b[39mself\u001b[39m\u001b[39m.\u001b[39m_has_reset, \u001b[39m\"\u001b[39m\u001b[39mCannot call env.step() before calling reset()\u001b[39m\u001b[39m\"\u001b[39m\n\u001b[1;32m---> 13\u001b[0m     observation, reward, done, info \u001b[39m=\u001b[39m \u001b[39mself\u001b[39;49m\u001b[39m.\u001b[39;49menv\u001b[39m.\u001b[39;49mstep(action)\n\u001b[0;32m     14\u001b[0m     \u001b[39mreturn\u001b[39;00m observation, reward, done, info\n",
            "File \u001b[1;32mc:\\ProgramData\\Anaconda3\\envs\\my-env\\lib\\site-packages\\gym\\envs\\atari\\environment.py:240\u001b[0m, in \u001b[0;36mAtariEnv.step\u001b[1;34m(self, action_ind)\u001b[0m\n\u001b[0;32m    237\u001b[0m \u001b[39mfor\u001b[39;00m _ \u001b[39min\u001b[39;00m \u001b[39mrange\u001b[39m(frameskip):\n\u001b[0;32m    238\u001b[0m     reward \u001b[39m+\u001b[39m\u001b[39m=\u001b[39m \u001b[39mself\u001b[39m\u001b[39m.\u001b[39male\u001b[39m.\u001b[39mact(action)\n\u001b[1;32m--> 240\u001b[0m \u001b[39mreturn\u001b[39;00m \u001b[39mself\u001b[39;49m\u001b[39m.\u001b[39;49m_get_obs(), reward, terminal, \u001b[39mself\u001b[39m\u001b[39m.\u001b[39m_get_info()\n",
            "File \u001b[1;32mc:\\ProgramData\\Anaconda3\\envs\\my-env\\lib\\site-packages\\gym\\envs\\atari\\environment.py:308\u001b[0m, in \u001b[0;36mAtariEnv._get_obs\u001b[1;34m(self)\u001b[0m\n\u001b[0;32m    303\u001b[0m \u001b[39m\"\"\"\u001b[39;00m\n\u001b[0;32m    304\u001b[0m \u001b[39mRetreives the current observation.\u001b[39;00m\n\u001b[0;32m    305\u001b[0m \u001b[39mThis is dependent on `self._obs_type`.\u001b[39;00m\n\u001b[0;32m    306\u001b[0m \u001b[39m\"\"\"\u001b[39;00m\n\u001b[0;32m    307\u001b[0m \u001b[39mif\u001b[39;00m \u001b[39mself\u001b[39m\u001b[39m.\u001b[39m_obs_type \u001b[39m==\u001b[39m \u001b[39m\"\u001b[39m\u001b[39mram\u001b[39m\u001b[39m\"\u001b[39m:\n\u001b[1;32m--> 308\u001b[0m     \u001b[39mreturn\u001b[39;00m \u001b[39mself\u001b[39;49m\u001b[39m.\u001b[39;49male\u001b[39m.\u001b[39;49mgetRAM()\n\u001b[0;32m    309\u001b[0m \u001b[39melif\u001b[39;00m \u001b[39mself\u001b[39m\u001b[39m.\u001b[39m_obs_type \u001b[39m==\u001b[39m \u001b[39m\"\u001b[39m\u001b[39mrgb\u001b[39m\u001b[39m\"\u001b[39m:\n\u001b[0;32m    310\u001b[0m     \u001b[39mreturn\u001b[39;00m \u001b[39mself\u001b[39m\u001b[39m.\u001b[39male\u001b[39m.\u001b[39mgetScreenRGB()\n",
            "\u001b[1;31mKeyboardInterrupt\u001b[0m: "
          ]
        },
        {
          "ename": "",
          "evalue": "",
          "output_type": "error",
          "traceback": [
            "\u001b[1;31mFailed to start the Kernel. \n",
            "Unable to start Kernel 'Python 3.8.1 64-bit' due to connection timeout. \n",
            "View Jupyter <a href='command:jupyter.viewOutput'>log</a> for further details."
          ]
        }
      ],
      "source": [
        "# Alterar os parâmetros\n",
        "Q.epsilon = 0.3\n",
        "Q.alpha = 0.518\n",
        "Q.gamma = 0.8\n",
        "\n",
        "# Rodada de treinamento\n",
        "for episodio in range(1, 21):\n",
        "    aprende_um_episodio(Q, episodio)"
      ]
    }
  ],
  "metadata": {
    "accelerator": "GPU",
    "colab": {
      "collapsed_sections": [],
      "name": "Implementacao_Q_Learning.ipynb",
      "provenance": []
    },
    "gpuClass": "standard",
    "kernelspec": {
      "display_name": "Python 3.8.1 64-bit",
      "language": "python",
      "name": "python3"
    },
    "language_info": {
      "codemirror_mode": {
        "name": "ipython",
        "version": 3
      },
      "file_extension": ".py",
      "mimetype": "text/x-python",
      "name": "python",
      "nbconvert_exporter": "python",
      "pygments_lexer": "ipython3",
      "version": "3.8.1"
    },
    "vscode": {
      "interpreter": {
        "hash": "b6b0624cccddf5f8d4e808bbaec474e98c760cccdc92b9340ef059d41d471831"
      }
    }
  },
  "nbformat": 4,
  "nbformat_minor": 0
}
