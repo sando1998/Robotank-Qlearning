{
  "cells": [
    {
      "cell_type": "markdown",
      "metadata": {},
      "source": [
        "Alunos\n",
        "\n",
        "Sandoval da Silva Almeida Junior\n",
        "\n",
        "Tayco Murilo Santos Rodrigues"
      ]
    },
    {
      "cell_type": "markdown",
      "metadata": {},
      "source": [
        "**Equação de Bellman**:\n",
        "\n",
        "$$Q^{(i+1)}[s,a] = (1-\\alpha)\\,Q^{(i)}[s,a] + \\alpha \\left( r + \\gamma \\,Q^{(i)}\\left[s,\\text{argmax}_{a} \\,Q^{(i)}[s,a]\\right] \\right).$$"
      ]
    },
    {
      "cell_type": "code",
      "execution_count": 1,
      "metadata": {
        "id": "6kVd1ovCggTd"
      },
      "outputs": [],
      "source": [
        "import gym\n",
        "import random\n",
        "import numpy as np"
      ]
    },
    {
      "cell_type": "code",
      "execution_count": null,
      "metadata": {
        "id": "e1lfwiwWDTm_",
        "outputId": "f430680f-1b09-4051-8ce4-608a1c5f1090"
      },
      "outputs": [],
      "source": [
        "#Instalar o pacote gym e a extensâo para o atari\n",
        "\n",
        "env = gym.make(\"Robotank-ram-v0\", render_mode ='human') #Criar uma instância com o gym"
      ]
    },
    {
      "cell_type": "code",
      "execution_count": 3,
      "metadata": {
        "id": "MuXjDGxYgwi5"
      },
      "outputs": [],
      "source": [
        "class QLearn: \n",
        "    \n",
        "    def __init__(self, actions, epsilon, alpha, gamma):\n",
        "        \n",
        "        # Dicionário para receber os valores de q\n",
        "        self.q = {}\n",
        "        \n",
        "        # Constante de Exploração // Determina se a proxima ação é aleatória ou coordenada\n",
        "        self.epsilon = epsilon  \n",
        "        \n",
        "        # Constante de Desconto   // taxa de aprendizado\n",
        "        self.alpha = alpha  \n",
        "        \n",
        "        # Taxa de Desconto        // Pesos atribuídos aos estados\n",
        "        self.gamma = gamma  \n",
        "        \n",
        "        # Ações\n",
        "        self.actions = actions\n",
        "\n",
        "    # Método para obter o valor de q, com base em cada ação e estado\n",
        "    def getQ(self, estado, acao):\n",
        "        return self.q.get((estado, acao), 0.0)  #get(getQ(), 0.0)\n",
        "\n",
        "    # Método para o aprendizado de q, onde será implementada a Equação de Bellman\n",
        "    def aprendeQ(self, estado, acao, recompensa, valor):\n",
        "        '''\n",
        "        Algoritmo Q-learning:\n",
        "            Q(s, a) += alpha * (reward(s,a) + max(Q(s') - Q(s,a))\n",
        "        '''\n",
        "        \n",
        "        # Obtém o valor anterior de q\n",
        "        antigo_q = self.q.get((estado, acao), None)\n",
        "        \n",
        "        # Se o valor estiver vazio, coletamos a recompensa, Se não, geramos um novo valor de q\n",
        "        if antigo_q is None:\n",
        "            self.q[(estado, acao)] = recompensa\n",
        "        else:\n",
        "            self.q[(estado, acao)] = antigo_q + self.alpha * (valor - antigo_q)\n",
        "            # Q(s, a)              = Q(s, a)   + alpha     * (reward(s,a) + max(Q(s') - Q(s,a))\n",
        "\n",
        "    def escolheAcao(self, estado, return_q = False):\n",
        "        \n",
        "        # self.actions foi iniciado no construtor da classe\n",
        "        q = [self.getQ(estado, a) for a in self.actions] # Fixa um estado e roda todas as ações nesse estado\n",
        "        \n",
        "\n",
        "        maxQ = max(q) # Grava o maior valor de q no estado enviado para a função\n",
        "\n",
        "        #Agora introduzimos aleatoriedade às decisões do agente\n",
        "        if random.random() < self.epsilon:\n",
        "            minQ = min(q)\n",
        "            mag = max(abs(minQ), abs(maxQ))\n",
        "            \n",
        "            # Adiciona valores aleatórios a todas as ações, recalculando maxQ\n",
        "            q = [q[i] + random.random() * mag - .5 * mag for i in range(len(self.actions))]\n",
        "            maxQ = max(q)\n",
        "\n",
        "        # Conta os valores máximos\n",
        "        count = q.count(maxQ)\n",
        "        \n",
        "        # Caso haja vários valores máximos de ação de estado selecionamos um aleatório entre eles\n",
        "        if count > 1:\n",
        "            best = [i for i in range(len(self.actions)) if q[i] == maxQ]\n",
        "            i = random.choice(best) # Escolhe aleatoriamente a posição da ação na lista que atende a q[i] == maxQ\n",
        "        else:\n",
        "            i = q.index(maxQ)\n",
        "        \n",
        "        # E alimentamos a variável de ação\n",
        "        action = self.actions[i] # Melhor ação pra aquele estado\n",
        "        \n",
        "        # Por fim, retornamos q e a ação ou apenas a ação\n",
        "        if return_q:  \n",
        "            return action, q\n",
        "        return action\n",
        "\n",
        "    # Este é o método de aprendizado para o treinamento do agente\n",
        "    def aprendizado(self, state1, action1, reward, state2):\n",
        "        maxqnew = max([self.getQ(state2, a) for a in self.actions]) # novo_estado = state2\n",
        "        self.aprendeQ(state1, action1, reward, reward + self.gamma * maxqnew)\n",
        "        #def aprendeQ(self, estado, acao, recompensa, valor):"
      ]
    },
    {
      "cell_type": "code",
      "execution_count": 4,
      "metadata": {
        "id": "ObBpwav6gsLb"
      },
      "outputs": [],
      "source": [
        "# Função para criar o estado a partir do ambiente do Gym\n",
        "def cria_estado(atributos):\n",
        "    return int(\"\".join(map(lambda atributo: str(int(atributo)), atributos)))"
      ]
    },
    {
      "cell_type": "code",
      "execution_count": 5,
      "metadata": {
        "id": "ac8PoSZXg8AX"
      },
      "outputs": [],
      "source": [
        "# Função para o aprendizado de um episódio\n",
        "def aprende_um_episodio(Q, episodio):\n",
        "    \n",
        "    # Variável de controle do loop de aprendizado\n",
        "    done = False\n",
        "    \n",
        "    # Inicializa variáveis\n",
        "    G, reward = 0, 0\n",
        "    \n",
        "    # Reset do ambiente\n",
        "    state = env.reset()\n",
        "    \n",
        "\n",
        "    while not done:\n",
        "        \n",
        "        \n",
        "        # Escolhe uma ação no estado atual\n",
        "        action = Q.escolheAcao(cria_estado(state))\n",
        "        \n",
        "        # Cada ação gera resultados e coletamos todos eles: estado, recompensa, se chegamos ao final e info\n",
        "        state2, reward, done, info = env.step(action)\n",
        "        \n",
        "        # Usamos os resultados anteriores para o agente aprender se aquela ação foi boa ou não\n",
        "        Q.aprendizado(cria_estado(state), action, reward, cria_estado(state))\n",
        "        \n",
        "        # Vamos acumulando as recompensas\n",
        "        G += reward\n",
        "        \n",
        "        # Para para o próximo estado\n",
        "        state = state2\n",
        "\n",
        "    # Andamento do aprendizado\n",
        "    print('Episódio {} Recompensa Total: {}'.format(episodio, G))"
      ]
    },
    {
      "cell_type": "code",
      "execution_count": 6,
      "metadata": {
        "id": "94qsRoYyg2Ao"
      },
      "outputs": [],
      "source": [
        "# Cria o objeto Q (instância da Classe) inicializando os parâmetros para as primeiras escolhas do agente\n",
        "\n",
        "# Hiperparâmetros iniciais\n",
        "actions = list(range(0, 18))\n",
        "epsilon = 0.4\n",
        "alpha = 0.618\n",
        "gamma = 0.9\n",
        "\n",
        "# Instância da classe\n",
        "Q = QLearn(actions, epsilon, alpha, gamma)"
      ]
    },
    {
      "cell_type": "code",
      "execution_count": null,
      "metadata": {
        "colab": {
          "base_uri": "https://localhost:8080/"
        },
        "id": "l5OSvnTIDTnM",
        "outputId": "554efa6f-bfd7-4a1e-a15e-409322272625"
      },
      "outputs": [],
      "source": [
        "# Primeira rodada de treinamento com 21 episódios\n",
        "# Cada recompensa faz com o que o agente aprenda a ação que gera o resultado, ou seja, vencer o jogo\n",
        "for episodio in range(1, 21):\n",
        "    aprende_um_episodio(Q, episodio)\n",
        "   "
      ]
    },
    {
      "cell_type": "code",
      "execution_count": null,
      "metadata": {
        "colab": {
          "base_uri": "https://localhost:8080/"
        },
        "id": "e5Nb1bVrDTnP",
        "outputId": "8b9e1ca7-d8d9-4e90-ab55-f9a22d2776d2"
      },
      "outputs": [],
      "source": [
        "# Alterar os parâmetros\n",
        "Q.epsilon = 0.3\n",
        "Q.alpha = 0.518\n",
        "Q.gamma = 0.8\n",
        "\n",
        "# Rodada de treinamento\n",
        "for episodio in range(1, 21):\n",
        "    aprende_um_episodio(Q, episodio)"
      ]
    }
  ],
  "metadata": {
    "accelerator": "GPU",
    "colab": {
      "collapsed_sections": [],
      "name": "Implementacao_Q_Learning.ipynb",
      "provenance": []
    },
    "gpuClass": "standard",
    "kernelspec": {
      "display_name": "Python 3.8.1 64-bit",
      "language": "python",
      "name": "python3"
    },
    "language_info": {
      "codemirror_mode": {
        "name": "ipython",
        "version": 3
      },
      "file_extension": ".py",
      "mimetype": "text/x-python",
      "name": "python",
      "nbconvert_exporter": "python",
      "pygments_lexer": "ipython3",
      "version": "3.8.1"
    },
    "vscode": {
      "interpreter": {
        "hash": "b6b0624cccddf5f8d4e808bbaec474e98c760cccdc92b9340ef059d41d471831"
      }
    }
  },
  "nbformat": 4,
  "nbformat_minor": 0
}
